{
  "cells": [
    {
      "cell_type": "code",
      "execution_count": 2,
      "metadata": {
        "id": "TyMyKwuPAGlO"
      },
      "outputs": [],
      "source": [
        "import pandas as pd\n",
        "import numpy as np\n",
        "from sklearn.model_selection import train_test_split\n",
        "from sklearn.preprocessing import LabelEncoder\n",
        "from sklearn.tree import DecisionTreeClassifier\n",
        "from email.mime.multipart import MIMEMultipart\n",
        "from email.mime.text import MIMEText\n",
        "import smtplib\n",
        "\n",
        "# Load data from CSV file\n",
        "df = pd.read_csv('adjusted_customer_data.csv')\n",
        "\n",
        "# Encode categorical features\n",
        "label_encoder = LabelEncoder()\n",
        "df['DishOrdered'] = label_encoder.fit_transform(df['DishOrdered'])\n",
        "df['OrderTime'] = label_encoder.fit_transform(df['OrderTime'])\n",
        "\n",
        "# Fit the encoder on the training data\n",
        "label_encoder.fit(df['OrderType'])\n",
        "\n",
        "# Transform both training and test data\n",
        "df['OrderType'] = label_encoder.transform(df['OrderType'])\n",
        "\n",
        "# Features and Target\n",
        "X = df[['DishOrdered', 'OrderType', 'OrderTime']]\n",
        "y = np.arange(len(X))  # Use a dummy target variable\n",
        "\n",
        "# Split the data into training and testing sets\n",
        "X_train, X_test, y_train, y_test = train_test_split(X, y, test_size=0.2, random_state=42)\n",
        "\n",
        "# Train the decision tree classifier\n",
        "model = DecisionTreeClassifier()\n",
        "model.fit(X_train, y_train)  # Use the actual target variable y_train\n",
        "\n",
        "# Make predictions on the entire dataset\n",
        "df['predicted_index'] = model.predict(X)\n",
        "\n",
        "# Generate random deals based on the predicted indices\n",
        "def generate_random_deal(index):\n",
        "    return f\"Special Deal {index}: 15% on your next order!\"\n",
        "\n",
        "df['random_deal'] = df['predicted_index'].apply(generate_random_deal)\n"
      ]
    },
    {
      "cell_type": "code",
      "execution_count": 1,
      "metadata": {
        "colab": {
          "base_uri": "https://localhost:8080/"
        },
        "id": "u-OpGnHfdNVS",
        "outputId": "575a700a-ad5b-4740-94bc-52ea9fa23023"
      },
      "outputs": [],
      "source": [
        "\n",
        "# Function to send an email\n",
        "def send_email(receiver_email, subject, body):\n",
        "    sender_email = \"awaiskhaleequemkh@gmail.com\"  # Replace with your email address\n",
        "    sender_password = \"awaisAWM#2002\"  # Replace with your email password\n",
        "\n",
        "    message = MIMEMultipart()\n",
        "    message['From'] = sender_email\n",
        "    message['To'] = receiver_email\n",
        "    message['Subject'] = subject\n",
        "    message.attach(MIMEText(body, 'plain'))\n",
        "\n",
        "    with smtplib.SMTP('smtp.gmail.com', 587) as server:\n",
        "        server.starttls()\n",
        "\n",
        "        try:\n",
        "            server.login(sender_email, sender_password)\n",
        "        except smtplib.SMTPAuthenticationError as e:\n",
        "            print(f\"Authentication failed. Make sure your email and password are correct. Error: {e}\")\n",
        "            return\n",
        "\n",
        "        try:\n",
        "            server.sendmail(sender_email, receiver_email, message.as_string())\n",
        "            print(f\"Email sent to {receiver_email}\")\n",
        "        except smtplib.SMTPException as e:\n",
        "            print(f\"Error sending email to {receiver_email}: {str(e)}\")\n",
        "\n",
        "# Iterate through the DataFrame and send emails\n",
        "for index, row in df.iterrows():\n",
        "    receiver_email = row['Email']  # Replace with the column containing customer emails\n",
        "    subject = \"Special Deal for You!\"\n",
        "    body = row['random_deal']  # Assuming 'random_deal' is the column with the generated deals\n",
        "\n",
        "    # Print email details for debugging\n",
        "    print(f\"Sending email to: {receiver_email}\")\n",
        "    print(f\"Subject: {subject}\")\n",
        "    print(f\"Body: {body}\")\n",
        "\n",
        "    try:\n",
        "        send_email(receiver_email, subject, body)\n",
        "    except Exception as e:\n",
        "        print(f\"Error sending email to {receiver_email}: {str(e)}\")\n"
      ]
    },
    {
      "cell_type": "code",
      "execution_count": null,
      "metadata": {
        "id": "xrCkBIfcS3IU"
      },
      "outputs": [],
      "source": []
    },
    {
      "cell_type": "code",
      "execution_count": null,
      "metadata": {
        "id": "-658dJlgNf3l"
      },
      "outputs": [],
      "source": []
    }
  ],
  "metadata": {
    "colab": {
      "provenance": []
    },
    "kernelspec": {
      "display_name": "Python 3",
      "name": "python3"
    },
    "language_info": {
      "codemirror_mode": {
        "name": "ipython",
        "version": 3
      },
      "file_extension": ".py",
      "mimetype": "text/x-python",
      "name": "python",
      "nbconvert_exporter": "python",
      "pygments_lexer": "ipython3",
      "version": "3.11.5"
    }
  },
  "nbformat": 4,
  "nbformat_minor": 0
}
